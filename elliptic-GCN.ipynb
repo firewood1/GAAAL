{
 "cells": [
  {
   "cell_type": "code",
   "execution_count": 1,
   "metadata": {
    "execution": {
     "iopub.execute_input": "2021-02-28T17:13:23.312965Z",
     "iopub.status.busy": "2021-02-28T17:13:23.311412Z",
     "iopub.status.idle": "2021-02-28T17:13:33.387245Z",
     "shell.execute_reply": "2021-02-28T17:13:33.388187Z"
    },
    "id": "57DpXDnG1s3Y",
    "papermill": {
     "duration": 10.15997,
     "end_time": "2021-02-28T17:13:33.388332",
     "exception": false,
     "start_time": "2021-02-28T17:13:23.228362",
     "status": "completed"
    },
    "tags": []
   },
   "outputs": [],
   "source": [
    "import numpy as np\n",
    "import pandas as pd\n",
    "import torch\n",
    "from torch.nn import Linear, LayerNorm, ReLU, Dropout\n",
    "import torch.nn.functional as F\n",
    "from torch_geometric.nn import ChebConv, NNConv, DeepGCNLayer, GATConv, DenseGCNConv, GCNConv, GraphConv\n",
    "from torch_geometric.data import Data, DataLoader\n",
    "\n",
    "from sklearn.metrics import roc_auc_score\n",
    "import scipy.sparse as sp\n",
    "\n",
    "import warnings\n",
    "warnings.filterwarnings(\"ignore\")"
   ]
  },
  {
   "cell_type": "code",
   "execution_count": 2,
   "metadata": {
    "execution": {
     "iopub.execute_input": "2021-02-28T17:13:33.569999Z",
     "iopub.status.busy": "2021-02-28T17:13:33.549004Z",
     "iopub.status.idle": "2021-02-28T17:13:51.966124Z",
     "shell.execute_reply": "2021-02-28T17:13:51.966681Z"
    },
    "id": "Z_FW_uxL2Dag",
    "papermill": {
     "duration": 18.503135,
     "end_time": "2021-02-28T17:13:51.966830",
     "exception": false,
     "start_time": "2021-02-28T17:13:33.463695",
     "status": "completed"
    },
    "tags": []
   },
   "outputs": [],
   "source": [
    "import pandas as pd\n",
    "df_features = pd.read_csv('elliptic_txs_features.csv', header=None)\n",
    "df_edges = pd.read_csv(\"elliptic_txs_edgelist.csv\")\n",
    "df_classes =  pd.read_csv(\"elliptic_txs_classes.csv\")\n",
    "df_classes['class'] = df_classes['class'].map({'unknown': 2, '1':1, '2':0})"
   ]
  },
  {
   "cell_type": "code",
   "execution_count": 3,
   "metadata": {
    "execution": {
     "iopub.execute_input": "2021-02-28T17:13:52.150830Z",
     "iopub.status.busy": "2021-02-28T17:13:52.150076Z",
     "iopub.status.idle": "2021-02-28T17:13:53.359780Z",
     "shell.execute_reply": "2021-02-28T17:13:53.360308Z"
    },
    "id": "iBYoyWM32JFQ",
    "papermill": {
     "duration": 1.297635,
     "end_time": "2021-02-28T17:13:53.360492",
     "exception": false,
     "start_time": "2021-02-28T17:13:52.062857",
     "status": "completed"
    },
    "tags": []
   },
   "outputs": [],
   "source": [
    "# merging dataframes\n",
    "df_merge = df_features.merge(df_classes, how='left', right_on=\"txId\", left_on=0)\n",
    "df_merge = df_merge.sort_values(0).reset_index(drop=True)\n",
    "classified = df_merge.loc[df_merge['class'].loc[df_merge['class']!=2].index].drop('txId', axis=1)\n",
    "unclassified = df_merge.loc[df_merge['class'].loc[df_merge['class']==2].index].drop('txId', axis=1)\n",
    "\n",
    "# storing classified unclassified nodes seperatly for training and testing purpose\n",
    "classified_edges = df_edges.loc[df_edges['txId1'].isin(classified[0]) & df_edges['txId2'].isin(classified[0])]\n",
    "unclassifed_edges = df_edges.loc[df_edges['txId1'].isin(unclassified[0]) | df_edges['txId2'].isin(unclassified[0])]\n",
    "del df_features, df_classes"
   ]
  },
  {
   "cell_type": "code",
   "execution_count": 4,
   "metadata": {
    "execution": {
     "iopub.execute_input": "2021-02-28T17:13:53.515404Z",
     "iopub.status.busy": "2021-02-28T17:13:53.514754Z",
     "iopub.status.idle": "2021-02-28T17:13:54.848592Z",
     "shell.execute_reply": "2021-02-28T17:13:54.849563Z"
    },
    "id": "LMM7lBiU2I6F",
    "outputId": "b50b50b2-4410-4a14-f9f8-35ed45679691",
    "papermill": {
     "duration": 1.413389,
     "end_time": "2021-02-28T17:13:54.849747",
     "exception": false,
     "start_time": "2021-02-28T17:13:53.436358",
     "status": "completed"
    },
    "tags": []
   },
   "outputs": [
    {
     "name": "stdout",
     "output_type": "stream",
     "text": [
      "torch.Size([2, 234355])\n"
     ]
    }
   ],
   "source": [
    "# all nodes in data\n",
    "nodes = df_merge[0].values\n",
    "map_id = {j:i for i,j in enumerate(nodes)} # mapping nodes to indexes\n",
    "\n",
    "edges = df_edges.copy()\n",
    "edges.txId1 = edges.txId1.map(map_id)\n",
    "edges.txId2 = edges.txId2.map(map_id)\n",
    "edges = edges.astype(int)\n",
    "\n",
    "edge_index = np.array(edges.values).T\n",
    "\n",
    "# for undirected graph\n",
    "# edge_index_ = np.array([edge_index[1,:], edge_index[0, :]])\n",
    "# edge_index = np.concatenate((edge_index, edge_index_), axis=1)\n",
    "\n",
    "edge_index = torch.tensor(edge_index, dtype=torch.long).contiguous()\n",
    "weights = torch.tensor([1]* edge_index.shape[1] , dtype=torch.double)\n",
    "print(edge_index.shape)"
   ]
  },
  {
   "cell_type": "code",
   "execution_count": 5,
   "metadata": {
    "execution": {
     "iopub.execute_input": "2021-02-28T17:13:55.008309Z",
     "iopub.status.busy": "2021-02-28T17:13:55.007254Z",
     "iopub.status.idle": "2021-02-28T17:13:55.995221Z",
     "shell.execute_reply": "2021-02-28T17:13:55.995750Z"
    },
    "id": "4M4CJKwpvNtP",
    "papermill": {
     "duration": 1.068124,
     "end_time": "2021-02-28T17:13:55.995915",
     "exception": false,
     "start_time": "2021-02-28T17:13:54.927791",
     "status": "completed"
    },
    "tags": []
   },
   "outputs": [],
   "source": [
    "# maping txIds to corresponding indexes, to pass node features to the model\n",
    "node_features = df_merge.drop(['txId'], axis=1).copy()\n",
    "node_features[0] = node_features[0].map(map_id)\n",
    "classified_idx = node_features['class'].loc[node_features['class']!=2].index\n",
    "unclassified_idx = node_features['class'].loc[node_features['class']==2].index\n",
    "# replace unkown class with 0, to avoid having 3 classes, this data/labels never used in training\n",
    "node_features['class'] = node_features['class'].replace(2, 0) "
   ]
  },
  {
   "cell_type": "code",
   "execution_count": 6,
   "metadata": {
    "execution": {
     "iopub.execute_input": "2021-02-28T17:13:56.257929Z",
     "iopub.status.busy": "2021-02-28T17:13:56.257242Z",
     "iopub.status.idle": "2021-02-28T17:13:56.580701Z",
     "shell.execute_reply": "2021-02-28T17:13:56.581333Z"
    },
    "id": "hGx0LmwS2Ilv",
    "papermill": {
     "duration": 0.509703,
     "end_time": "2021-02-28T17:13:56.581520",
     "exception": false,
     "start_time": "2021-02-28T17:13:56.071817",
     "status": "completed"
    },
    "tags": []
   },
   "outputs": [],
   "source": [
    "labels = node_features['class'].values\n",
    "node_features = torch.tensor(np.array(node_features.drop([0, 'class', 1], axis=1).values, dtype=np.double), dtype=torch.double)\n",
    "\n",
    "# converting data to PyGeometric graph data format\n",
    "data_train = Data(x=node_features, edge_index=edge_index, edge_attr=weights,\n",
    "                               y=torch.tensor(labels, dtype=torch.double)) #, adj= torch.from_numpy(np.array(adj))"
   ]
  },
  {
   "cell_type": "code",
   "execution_count": 7,
   "metadata": {
    "execution": {
     "iopub.execute_input": "2021-02-28T17:13:56.742776Z",
     "iopub.status.busy": "2021-02-28T17:13:56.741981Z",
     "iopub.status.idle": "2021-02-28T17:13:56.924377Z",
     "shell.execute_reply": "2021-02-28T17:13:56.924872Z"
    },
    "id": "Wv747ZYxhabw",
    "papermill": {
     "duration": 0.264719,
     "end_time": "2021-02-28T17:13:56.925031",
     "exception": false,
     "start_time": "2021-02-28T17:13:56.660312",
     "status": "completed"
    },
    "tags": []
   },
   "outputs": [],
   "source": [
    "y_train = labels[classified_idx]\n",
    "\n",
    "# spliting train set and validation set\n",
    "from sklearn.model_selection import train_test_split\n",
    "X_train, X_valid, y_train, y_valid, train_idx, valid_idx = train_test_split(node_features[classified_idx], y_train, classified_idx, test_size=0.15, random_state=42, stratify=y_train)"
   ]
  },
  {
   "cell_type": "code",
   "execution_count": 8,
   "metadata": {
    "execution": {
     "iopub.execute_input": "2021-02-28T17:13:57.088636Z",
     "iopub.status.busy": "2021-02-28T17:13:57.087659Z",
     "iopub.status.idle": "2021-02-28T17:13:57.248109Z",
     "shell.execute_reply": "2021-02-28T17:13:57.247449Z"
    },
    "id": "ocbBkKk3hcOI",
    "outputId": "f0b90aae-3ad9-4c2d-d9c5-c8212084f8ff",
    "papermill": {
     "duration": 0.245781,
     "end_time": "2021-02-28T17:13:57.248265",
     "exception": false,
     "start_time": "2021-02-28T17:13:57.002484",
     "status": "completed"
    },
    "tags": []
   },
   "outputs": [
    {
     "data": {
      "text/plain": [
       "tensor(4545., dtype=torch.float64)"
      ]
     },
     "execution_count": 8,
     "metadata": {},
     "output_type": "execute_result"
    }
   ],
   "source": [
    "data_train.y[classified_idx].sum()"
   ]
  },
  {
   "cell_type": "code",
   "execution_count": 9,
   "metadata": {
    "execution": {
     "iopub.execute_input": "2021-02-28T17:13:57.412696Z",
     "iopub.status.busy": "2021-02-28T17:13:57.411848Z",
     "iopub.status.idle": "2021-02-28T17:13:57.414422Z",
     "shell.execute_reply": "2021-02-28T17:13:57.414969Z"
    },
    "id": "3wdIHRUm2RZk",
    "papermill": {
     "duration": 0.084835,
     "end_time": "2021-02-28T17:13:57.415114",
     "exception": false,
     "start_time": "2021-02-28T17:13:57.330279",
     "status": "completed"
    },
    "tags": []
   },
   "outputs": [],
   "source": [
    "# data_train.y = data_train.y.double()\n",
    "# data_train.x = data_train.x.double()"
   ]
  },
  {
   "cell_type": "code",
   "execution_count": 10,
   "metadata": {
    "execution": {
     "iopub.execute_input": "2021-02-28T17:13:57.759528Z",
     "iopub.status.busy": "2021-02-28T17:13:57.758630Z",
     "iopub.status.idle": "2021-02-28T17:13:57.762846Z",
     "shell.execute_reply": "2021-02-28T17:13:57.763331Z"
    },
    "id": "ey_zVTCC2Ttn",
    "outputId": "feac5ff9-ebe0-469d-fc22-2b5484fc8034",
    "papermill": {
     "duration": 0.271411,
     "end_time": "2021-02-28T17:13:57.763480",
     "exception": false,
     "start_time": "2021-02-28T17:13:57.492069",
     "status": "completed"
    },
    "tags": []
   },
   "outputs": [
    {
     "data": {
      "text/plain": [
       "0"
      ]
     },
     "execution_count": 10,
     "metadata": {},
     "output_type": "execute_result"
    }
   ],
   "source": [
    "import gc\n",
    "gc.collect()"
   ]
  },
  {
   "cell_type": "code",
   "execution_count": 11,
   "metadata": {
    "execution": {
     "iopub.execute_input": "2021-02-28T17:13:57.930325Z",
     "iopub.status.busy": "2021-02-28T17:13:57.929577Z",
     "iopub.status.idle": "2021-02-28T17:13:57.931800Z",
     "shell.execute_reply": "2021-02-28T17:13:57.932295Z"
    },
    "id": "Rjr_1PQf2TmI",
    "papermill": {
     "duration": 0.091402,
     "end_time": "2021-02-28T17:13:57.932431",
     "exception": false,
     "start_time": "2021-02-28T17:13:57.841029",
     "status": "completed"
    },
    "tags": []
   },
   "outputs": [],
   "source": [
    "import torch.nn.functional as F\n",
    "from sklearn.metrics import roc_auc_score\n",
    "class Net(torch.nn.Module):\n",
    "    def __init__(self):\n",
    "        super(Net, self).__init__()\n",
    "        \n",
    "        self.conv1 = GCNConv(165, 128)\n",
    "        self.conv2 = GCNConv(128, 128)\n",
    "        self.conv3 = GCNConv(64, 64)\n",
    "        self.conv4 = GCNConv(128, 1) \n",
    "\n",
    "    def forward(self, data, adj=None):\n",
    "        x, edge_index = data.x, data.edge_index\n",
    "        x = self.conv1(x, edge_index)\n",
    "        x = F.relu(x)\n",
    "        x = F.dropout(x, p=0.1, training=self.training)\n",
    "        x = self.conv4(x, edge_index)\n",
    "\n",
    "        return F.sigmoid(x)"
   ]
  },
  {
   "cell_type": "code",
   "execution_count": 27,
   "metadata": {
    "execution": {
     "iopub.execute_input": "2021-02-28T17:13:58.092869Z",
     "iopub.status.busy": "2021-02-28T17:13:58.092183Z",
     "iopub.status.idle": "2021-02-28T17:20:28.333357Z",
     "shell.execute_reply": "2021-02-28T17:20:28.334114Z"
    },
    "id": "_41H9jZyvRMK",
    "outputId": "7b4cb5f4-3c87-4230-aeab-156c7fd734a7",
    "papermill": {
     "duration": 390.323577,
     "end_time": "2021-02-28T17:20:28.334519",
     "exception": false,
     "start_time": "2021-02-28T17:13:58.010942",
     "status": "completed"
    },
    "tags": []
   },
   "outputs": [
    {
     "name": "stdout",
     "output_type": "stream",
     "text": [
      "epoch: 0 - loss: 0.41528438755931885 - roc: 0.6832203930991017\n",
      "epoch: 5 - loss: 0.23637810057996067 - roc: 0.8973980442311795\n",
      "epoch: 10 - loss: 0.19991107601238273 - roc: 0.9235280889794535\n",
      "epoch: 15 - loss: 0.183598984105867 - roc: 0.9320894952724381\n",
      "epoch: 20 - loss: 0.17055794687675216 - roc: 0.9396074787012347\n",
      "epoch: 25 - loss: 0.15951367284443374 - roc: 0.946206522029992\n",
      "epoch: 30 - loss: 0.15311132442491787 - roc: 0.9492829459381393\n",
      "epoch: 35 - loss: 0.14507898766427244 - roc: 0.9546743506246984\n",
      "epoch: 40 - loss: 0.14042418872692075 - roc: 0.9575324966332759\n",
      "epoch: 45 - loss: 0.13435745663435955 - roc: 0.9612264782659834\n",
      "epoch: 50 - loss: 0.13038395652448873 - roc: 0.9632862095826752\n",
      "epoch: 55 - loss: 0.12557691120510248 - roc: 0.9661682374374168\n",
      "epoch: 60 - loss: 0.12121576938150143 - roc: 0.9687168326818578\n",
      "epoch: 65 - loss: 0.11756957478988514 - roc: 0.970183344738153\n",
      "epoch: 70 - loss: 0.11390004619293095 - roc: 0.9719035334608365\n",
      "epoch: 75 - loss: 0.10883725057475294 - roc: 0.974206236288595\n",
      "epoch: 80 - loss: 0.10677065276421273 - roc: 0.9750932058807643\n",
      "epoch: 85 - loss: 0.10320581537689456 - roc: 0.977229735996229\n",
      "epoch: 90 - loss: 0.10079724423417365 - roc: 0.9783600467426076\n",
      "epoch: 95 - loss: 0.09862865232809309 - roc: 0.979233933866696\n",
      "epoch: 100 - loss: 0.09691377286865156 - roc: 0.9798118238085378\n",
      "epoch: 105 - loss: 0.09472072851005513 - roc: 0.9810736912741054\n",
      "epoch: 110 - loss: 0.09333545888108925 - roc: 0.9812734725207434\n",
      "epoch: 115 - loss: 0.09154860865999673 - roc: 0.9823040231060884\n",
      "epoch: 120 - loss: 0.0889001664646346 - roc: 0.9832221586886999\n",
      "epoch: 125 - loss: 0.08821938702648706 - roc: 0.9833683634233966\n",
      "epoch: 130 - loss: 0.08857029258723739 - roc: 0.9830587546760219\n",
      "epoch: 135 - loss: 0.08466531419933371 - roc: 0.9849209371007402\n",
      "epoch: 140 - loss: 0.08377198268576792 - roc: 0.9854022414638308\n",
      "epoch: 145 - loss: 0.08375106583278712 - roc: 0.9856468944888004\n",
      "epoch: 150 - loss: 0.08199776103880464 - roc: 0.9858720434020772\n",
      "epoch: 155 - loss: 0.08095509663874531 - roc: 0.9862417952631001\n",
      "epoch: 160 - loss: 0.08075756143030409 - roc: 0.9863850935879903\n",
      "epoch: 165 - loss: 0.07869258173511813 - roc: 0.9871834213050189\n",
      "epoch: 170 - loss: 0.0778836038086365 - roc: 0.9873751283857609\n",
      "epoch: 175 - loss: 0.07792706726212777 - roc: 0.9872970539557513\n",
      "epoch: 180 - loss: 0.07671235808486486 - roc: 0.9875698505948804\n",
      "epoch: 185 - loss: 0.07427073829253848 - roc: 0.9887699079287062\n",
      "epoch: 190 - loss: 0.07415726967948974 - roc: 0.9888083000801879\n",
      "epoch: 195 - loss: 0.07363357302513167 - roc: 0.9887522157932018\n",
      "epoch: 200 - loss: 0.07223848319109544 - roc: 0.9892246777124928\n",
      "epoch: 205 - loss: 0.0718335426702689 - roc: 0.9894351061312143\n",
      "epoch: 210 - loss: 0.07166145619484314 - roc: 0.9893837039906992\n",
      "epoch: 215 - loss: 0.07235196794888218 - roc: 0.9892200897887835\n",
      "epoch: 220 - loss: 0.06995259653496691 - roc: 0.9900516274053947\n",
      "epoch: 225 - loss: 0.07124550436836294 - roc: 0.9898319579081122\n",
      "epoch: 230 - loss: 0.06800777703357824 - roc: 0.9906173481151548\n",
      "epoch: 235 - loss: 0.06898006559432603 - roc: 0.9902161186037857\n",
      "epoch: 240 - loss: 0.06736766258759994 - roc: 0.9907947115923889\n",
      "epoch: 245 - loss: 0.06591121441048597 - roc: 0.9912292959614356\n",
      "epoch: 250 - loss: 0.06573892452093213 - roc: 0.9912755086021469\n",
      "epoch: 255 - loss: 0.06603492931737637 - roc: 0.9912128794571679\n",
      "epoch: 260 - loss: 0.06546577987399957 - roc: 0.991459844563754\n",
      "epoch: 265 - loss: 0.06521456693129997 - roc: 0.9915095144550328\n",
      "epoch: 270 - loss: 0.06438009231198495 - roc: 0.9915416806563307\n",
      "epoch: 275 - loss: 0.06463223675685824 - roc: 0.9916265753647139\n",
      "epoch: 280 - loss: 0.06468029295341879 - roc: 0.9918046998719467\n",
      "epoch: 285 - loss: 0.06275468485031996 - roc: 0.9921351970808223\n",
      "epoch: 290 - loss: 0.06469317890694952 - roc: 0.9914685782889824\n",
      "epoch: 295 - loss: 0.061981668212768584 - roc: 0.9925858210630896\n",
      "epoch: 300 - loss: 0.062445909912478094 - roc: 0.9921862948093376\n",
      "epoch: 305 - loss: 0.0633776775294685 - roc: 0.9917303871045048\n",
      "epoch: 310 - loss: 0.06536283885749514 - roc: 0.991311197285155\n",
      "epoch: 315 - loss: 0.061191902305940724 - roc: 0.9925895682298473\n",
      "epoch: 320 - loss: 0.060815389428083275 - roc: 0.9926640766907179\n",
      "epoch: 325 - loss: 0.061300449095634646 - roc: 0.9925105950596482\n",
      "epoch: 330 - loss: 0.05965572188359812 - roc: 0.9929286324621418\n",
      "epoch: 335 - loss: 0.05802939828578406 - roc: 0.9934998688274197\n",
      "epoch: 340 - loss: 0.05886110031721176 - roc: 0.9933348340361724\n",
      "epoch: 345 - loss: 0.05725652515035122 - roc: 0.9936630119155263\n",
      "epoch: 350 - loss: 0.057734541284303685 - roc: 0.9934729863486874\n",
      "epoch: 355 - loss: 0.058298496265856224 - roc: 0.9934106326240891\n",
      "epoch: 360 - loss: 0.05770107988728577 - roc: 0.9936522995123\n",
      "epoch: 365 - loss: 0.05762337251024897 - roc: 0.9935571417707856\n",
      "epoch: 370 - loss: 0.058113458660867985 - roc: 0.9934235121508368\n",
      "epoch: 375 - loss: 0.056850647521882916 - roc: 0.993654125984298\n",
      "epoch: 380 - loss: 0.05704421190831973 - roc: 0.9935362388134751\n",
      "epoch: 385 - loss: 0.05656546856591671 - roc: 0.9937319249939269\n",
      "epoch: 390 - loss: 0.05570532828805232 - roc: 0.993895908838985\n",
      "epoch: 395 - loss: 0.05509839917201979 - roc: 0.9940493614784356\n"
     ]
    }
   ],
   "source": [
    "device = torch.device('cuda' if torch.cuda.is_available() else 'cpu')\n",
    "model = Net().to(device)\n",
    "model.double()\n",
    "data_train = data_train.to(device)\n",
    "optimizer = torch.optim.Adam(model.parameters(), lr=0.01, weight_decay=1e-5)\n",
    "scheduler = torch.optim.lr_scheduler.ReduceLROnPlateau(optimizer, 'min')\n",
    "criterion = torch.nn.BCELoss()\n",
    "\n",
    "model.train()\n",
    "for epoch in range(400):\n",
    "    optimizer.zero_grad()\n",
    "    out = model(data_train)\n",
    "    # data_train.y.unsqueeze(1)\n",
    "    out = out.reshape((data_train.x.shape[0]))\n",
    "    loss = criterion(out[train_idx], data_train.y[train_idx])\n",
    "    auc = roc_auc_score(data_train.y.detach().cpu().numpy()[train_idx], out.detach().cpu().numpy()[train_idx]) #[train_idx]\n",
    "    loss.backward()\n",
    "    optimizer.step()\n",
    "    if epoch%5 == 0:\n",
    "      print(\"epoch: {} - loss: {} - roc: {}\".format(epoch, loss.item(), auc))"
   ]
  },
  {
   "cell_type": "code",
   "execution_count": 28,
   "metadata": {
    "execution": {
     "iopub.execute_input": "2021-02-28T17:20:28.506863Z",
     "iopub.status.busy": "2021-02-28T17:20:28.505800Z",
     "iopub.status.idle": "2021-02-28T17:20:30.943167Z",
     "shell.execute_reply": "2021-02-28T17:20:30.942464Z"
    },
    "id": "lYxjqP4U2f0S",
    "papermill": {
     "duration": 2.525081,
     "end_time": "2021-02-28T17:20:30.943320",
     "exception": false,
     "start_time": "2021-02-28T17:20:28.418239",
     "status": "completed"
    },
    "tags": []
   },
   "outputs": [],
   "source": [
    "preds = model(data_train)\n",
    "preds = preds.detach().cpu().numpy()"
   ]
  },
  {
   "cell_type": "code",
   "execution_count": 29,
   "metadata": {
    "execution": {
     "iopub.execute_input": "2021-02-28T17:20:31.122270Z",
     "iopub.status.busy": "2021-02-28T17:20:31.121231Z",
     "iopub.status.idle": "2021-02-28T17:20:31.145998Z",
     "shell.execute_reply": "2021-02-28T17:20:31.146459Z"
    },
    "id": "VuFVOba1Sp9A",
    "outputId": "3492f545-0177-4b93-c8da-b25da812d46a",
    "papermill": {
     "duration": 0.116663,
     "end_time": "2021-02-28T17:20:31.146632",
     "exception": false,
     "start_time": "2021-02-28T17:20:31.029969",
     "status": "completed"
    },
    "tags": []
   },
   "outputs": [
    {
     "name": "stdout",
     "output_type": "stream",
     "text": [
      "Train Accuracy:  0.9803936430935597\n",
      "Train AUC:  0.9939397006795085\n",
      "Train Precision:  0.9451975771560427\n",
      "Train Recall:  0.8483044266114419\n",
      "Train F1 Score:  0.8941336971350613\n"
     ]
    }
   ],
   "source": [
    "from sklearn.metrics import accuracy_score, precision_recall_fscore_support, roc_auc_score\n",
    "\n",
    "# 计算二值化输出，假设使用0.6作为分类阈值\n",
    "out_labels = preds > 0.6\n",
    "\n",
    "# 计算训练集的准确率\n",
    "train_acc = accuracy_score(data_train.y.detach().cpu().numpy()[train_idx], out_labels[train_idx])\n",
    "\n",
    "# 计算训练集的AUC\n",
    "train_auc = roc_auc_score(data_train.y.detach().cpu().numpy()[train_idx], preds[train_idx])\n",
    "\n",
    "# 计算precision, recall, f1-score\n",
    "precision, recall, f1, _ = precision_recall_fscore_support(data_train.y.detach().cpu().numpy()[train_idx], out_labels[train_idx], average='binary')\n",
    "\n",
    "print(\"Train Accuracy: \", train_acc)\n",
    "print(\"Train AUC: \", train_auc)\n",
    "print(\"Train Precision: \", precision)\n",
    "print(\"Train Recall: \", recall)\n",
    "print(\"Train F1 Score: \", f1)\n"
   ]
  },
  {
   "cell_type": "code",
   "execution_count": 30,
   "metadata": {
    "execution": {
     "iopub.execute_input": "2021-02-28T17:20:31.320168Z",
     "iopub.status.busy": "2021-02-28T17:20:31.319518Z",
     "iopub.status.idle": "2021-02-28T17:20:31.330960Z",
     "shell.execute_reply": "2021-02-28T17:20:31.330152Z"
    },
    "id": "gYkbMHzKBkop",
    "outputId": "1bdcaaa4-6394-4986-c98d-5883a2c200ec",
    "papermill": {
     "duration": 0.101033,
     "end_time": "2021-02-28T17:20:31.331117",
     "exception": false,
     "start_time": "2021-02-28T17:20:31.230084",
     "status": "completed"
    },
    "tags": []
   },
   "outputs": [
    {
     "name": "stdout",
     "output_type": "stream",
     "text": [
      "Validation Accuracy:  0.9643521832498211\n",
      "Validation AUC:  0.9697483812344632\n",
      "Validation Precision:  0.8441971383147854\n",
      "Validation Recall:  0.7785923753665689\n",
      "Validation F1 Score:  0.8100686498855834\n"
     ]
    }
   ],
   "source": [
    "from sklearn.metrics import accuracy_score, roc_auc_score, precision_recall_fscore_support\n",
    "\n",
    "# 预测验证集的AUC\n",
    "valid_auc = roc_auc_score(data_train.y.detach().cpu().numpy()[valid_idx], preds[valid_idx])\n",
    "\n",
    "# 根据阈值确定类别标签\n",
    "out_labels = preds > 0.6\n",
    "valid_labels = out_labels[valid_idx]\n",
    "\n",
    "# 计算验证集的准确率\n",
    "valid_acc = accuracy_score(data_train.y.detach().cpu().numpy()[valid_idx], valid_labels)\n",
    "\n",
    "# 计算precision, recall, f1-score\n",
    "precision, recall, f1, _ = precision_recall_fscore_support(data_train.y.detach().cpu().numpy()[valid_idx], valid_labels, average='binary')\n",
    "\n",
    "print(\"Validation Accuracy: \", valid_acc)\n",
    "print(\"Validation AUC: \", valid_auc)\n",
    "print(\"Validation Precision: \", precision)\n",
    "print(\"Validation Recall: \", recall)\n",
    "print(\"Validation F1 Score: \", f1)\n"
   ]
  },
  {
   "cell_type": "code",
   "execution_count": null,
   "metadata": {},
   "outputs": [],
   "source": []
  }
 ],
 "metadata": {
  "kernelspec": {
   "display_name": "“shimeipytorch”",
   "language": "python",
   "name": "shimeipytorch"
  },
  "language_info": {
   "codemirror_mode": {
    "name": "ipython",
    "version": 3
   },
   "file_extension": ".py",
   "mimetype": "text/x-python",
   "name": "python",
   "nbconvert_exporter": "python",
   "pygments_lexer": "ipython3",
   "version": "3.8.18"
  },
  "papermill": {
   "duration": 1465.987228,
   "end_time": "2021-02-28T17:20:32.623450",
   "environment_variables": {},
   "exception": null,
   "input_path": "__notebook__.ipynb",
   "output_path": "__notebook__.ipynb",
   "parameters": {},
   "start_time": "2021-02-28T16:56:06.636222",
   "version": "2.1.0"
  }
 },
 "nbformat": 4,
 "nbformat_minor": 4
}
