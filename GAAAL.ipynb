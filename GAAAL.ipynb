{
 "cells": [
  {
   "cell_type": "code",
   "execution_count": 1,
   "id": "492fc6c4",
   "metadata": {},
   "outputs": [],
   "source": [
    "import os\n",
    "import copy\n",
    "import torch\n",
    "import warnings\n",
    "import numpy as np\n",
    "import pandas as pd\n",
    "import networkx as nx\n",
    "import seaborn as sns\n",
    "import matplotlib.pyplot as plt\n",
    "\n",
    "from sklearn.metrics import confusion_matrix, classification_report\n",
    "from sklearn.model_selection import train_test_split\n",
    "\n",
    "from torch_geometric.utils import to_networkx\n",
    "from torch_geometric.data import Data, DataLoader\n",
    "\n",
    "import torch.nn.functional as F\n",
    "from torch.nn import Linear, BatchNorm1d\n",
    "from torch_geometric.nn import GATv2Conv\n",
    "\n",
    "from types import SimpleNamespace\n",
    "\n",
    "warnings.filterwarnings('ignore')"
   ]
  },
  {
   "cell_type": "markdown",
   "id": "2b4f289c",
   "metadata": {},
   "source": [
    "# Part1.以下为数据处理"
   ]
  },
  {
   "cell_type": "code",
   "execution_count": 2,
   "id": "a82d5956",
   "metadata": {},
   "outputs": [],
   "source": [
    "df_features = pd.read_csv('elliptic_txs_features.csv', header=None)\n",
    "df_edges = pd.read_csv('elliptic_txs_edgelist.csv')\n",
    "df_classes =  pd.read_csv('elliptic_txs_classes.csv')\n",
    "df_classes['class'] = df_classes['class'].map({'unknown': 2, '1': 1, '2': 0})\n",
    "# 将类别数据映射到数值。这里将\"unknown\"映射到2，\"1\"映射到1，\"2\"映射到0。"
   ]
  },
  {
   "cell_type": "code",
   "execution_count": 3,
   "id": "8c051451",
   "metadata": {},
   "outputs": [],
   "source": [
    "df_merge = df_features.merge(df_classes, how='left', right_on=\"txId\", left_on=0)\n",
    "# 将特征数据框（df_features）和类别数据框（df_classes）合并。\n",
    "# 使用左连接（left join），以特征数据框为基础，根据交易ID（txId）进行匹配。\n",
    "df_merge = df_merge.sort_values(0).reset_index(drop=True)\n",
    "# 对合并后的数据框按照交易ID（第0列）进行排序，并重置索引。"
   ]
  },
  {
   "cell_type": "code",
   "execution_count": 4,
   "id": "2c9f12a3",
   "metadata": {},
   "outputs": [
    {
     "name": "stdout",
     "output_type": "stream",
     "text": [
      "Total amount of edges in DAG: torch.Size([2, 234355])\n"
     ]
    }
   ],
   "source": [
    "# 创建一个映射，将每个交易ID映射到一个唯一的索引。\n",
    "# 这在图数据中常见，因为图神经网络通常需要以整数索引来表示节点。\n",
    "nodes = df_merge[0].values\n",
    "map_id = {j:i for i,j in enumerate(nodes)}\n",
    "\n",
    "# 将边数据框（df_edges）中的交易ID映射到之前创建的索引。\n",
    "# 这确保了边数据框中的交易ID与节点数据框中的索引对应。\n",
    "edges = df_edges.copy()\n",
    "edges.txId1 = edges.txId1.map(map_id)\n",
    "edges.txId2 = edges.txId2.map(map_id)\n",
    "edges = edges.astype(int)\n",
    "\n",
    "edge_index = np.array(edges.values).T\n",
    "edge_index = torch.tensor(edge_index, dtype=torch.long).contiguous()\n",
    "\n",
    "# 创建一个权重张量，其中所有边的权重都设为1。\n",
    "weights = torch.tensor([1] * edge_index.shape[1] , dtype=torch.float32)\n",
    "# 打印有向无环图（DAG）中边的总数。\n",
    "print(\"Total amount of edges in DAG:\", edge_index.shape)"
   ]
  },
  {
   "cell_type": "code",
   "execution_count": 5,
   "id": "27d7e314",
   "metadata": {},
   "outputs": [],
   "source": [
    "# 从合并后的数据框中去除'txId'列，因为我们已经有了映射到索引的交易ID。\n",
    "node_features = df_merge.drop(['txId'], axis=1).copy()\n",
    "# 将节点特征中的交易ID映射到对应的索引。\n",
    "node_features[0] = node_features[0].map(map_id)\n",
    "\n",
    "# 根据类别标签区分已分类（'class'不是2）和未分类（'class'是2）的节点，\n",
    "# 并分别存储它们的索引。\n",
    "classified_idx = node_features['class'].loc[node_features['class'] != 2].index\n",
    "unclassified_idx = node_features['class'].loc[node_features['class'] == 2].index\n",
    "\n",
    "# 将未知类别（之前映射为2）替换为0。这是为了避免在训练时处理三个类别。\n",
    "# 在这个上下文中，未知类别的数据不会用于预训练。\n",
    "\n",
    "node_features['class'] = node_features['class'].replace(2, 0)\n",
    "\n",
    "labels = node_features['class'].values\n",
    "\n",
    "# 从节点特征中去除索引、类别和时间轴\n",
    "node_features = torch.tensor(np.array(node_features.drop([0, 'class', 1], axis=1).values, dtype=np.float32), dtype=torch.float32)"
   ]
  },
  {
   "cell_type": "code",
   "execution_count": 6,
   "id": "a5d300c5",
   "metadata": {},
   "outputs": [
    {
     "name": "stdout",
     "output_type": "stream",
     "text": [
      "Number of nodes: 203769\n",
      "Number of node features: 165\n",
      "Number of edges: 234355\n",
      "Number of edge features: 165\n",
      "Average node degree: 1.15\n",
      "Number of classes: 2\n",
      "Has isolated nodes: False\n",
      "Has self loops: False\n",
      "Is directed: True\n"
     ]
    }
   ],
   "source": [
    "# 使用PyTorch Geometric的Data类创建图数据对象。\n",
    "# 'x'为节点特征，'edge_index'为边的索引，'edge_attr'为边的属性（在此例中是权重），\n",
    "# 'y'为节点的标签。\n",
    "elliptic_dataset = Data(x = node_features,\n",
    "                        edge_index = edge_index,\n",
    "                        edge_attr = weights,\n",
    "                        y = torch.tensor(labels, dtype=torch.float32))\n",
    "\n",
    "print(f'Number of nodes: {elliptic_dataset.num_nodes}')\n",
    "print(f'Number of node features: {elliptic_dataset.num_features}')\n",
    "print(f'Number of edges: {elliptic_dataset.num_edges}')\n",
    "print(f'Number of edge features: {elliptic_dataset.num_features}')\n",
    "print(f'Average node degree: {elliptic_dataset.num_edges / elliptic_dataset.num_nodes:.2f}')\n",
    "print(f'Number of classes: {len(np.unique(elliptic_dataset.y))}')\n",
    "print(f'Has isolated nodes: {elliptic_dataset.has_isolated_nodes()}')\n",
    "print(f'Has self loops: {elliptic_dataset.has_self_loops()}')\n",
    "print(f'Is directed: {elliptic_dataset.is_directed()}')"
   ]
  },
  {
   "cell_type": "code",
   "execution_count": 7,
   "id": "1506a532",
   "metadata": {},
   "outputs": [
    {
     "name": "stdout",
     "output_type": "stream",
     "text": [
      "Using device: cuda\n"
     ]
    }
   ],
   "source": [
    "from types import SimpleNamespace\n",
    "\n",
    "config = SimpleNamespace(\n",
    "    seed = 0,\n",
    "    learning_rate = 0.001,\n",
    "    weight_decay = 1e-5,# weight_decay：权重衰减，用于正则化以防止过拟合。\n",
    "    input_dim = 165,\n",
    "    output_dim = 1,\n",
    "    hidden_size = 128,\n",
    "    num_epochs = 200,\n",
    "    checkpoints_dir = './models/elliptic_gnn',\n",
    "    device = torch.device('cuda' if torch.cuda.is_available() else 'cpu')\n",
    ")\n",
    "\n",
    "print(\"Using device:\", config.device)\n"
   ]
  },
  {
   "cell_type": "code",
   "execution_count": 8,
   "id": "6572f889",
   "metadata": {},
   "outputs": [
    {
     "name": "stdout",
     "output_type": "stream",
     "text": [
      "Train dataset size: 39579\n",
      "Validation dataset size: 6985\n",
      "Test dataset size: 157205\n"
     ]
    }
   ],
   "source": [
    "y_train = labels[classified_idx]\n",
    "\n",
    "# 使用train_test_split函数将已分类的节点分割成训练集和验证集。\n",
    "# test_size=0.15 表示验证集占15%，剩余85%作为训练集。\n",
    "# random_state 设置为配置中的种子，以确保可重复性。\n",
    "# stratify 参数确保训练集和验证集在类别分布上保持一致。\n",
    "_, _, _, _, train_idx, valid_idx = train_test_split(node_features[classified_idx],\n",
    "                                                    y_train,\n",
    "                                                    classified_idx,\n",
    "                                                    test_size=0.15,\n",
    "                                                    random_state=config.seed,\n",
    "                                                    stratify=y_train)\n",
    "# 将训练集、验证集和测试集的索引分别转换为PyTorch张量，并存储在elliptic_dataset对象中。\n",
    "elliptic_dataset.train_idx = torch.tensor(train_idx, dtype=torch.long)\n",
    "elliptic_dataset.val_idx = torch.tensor(valid_idx, dtype=torch.long)\n",
    "elliptic_dataset.test_idx = torch.tensor(unclassified_idx, dtype=torch.long)\n",
    "\n",
    "print(\"Train dataset size:\", elliptic_dataset.train_idx.shape[0])\n",
    "print(\"Validation dataset size:\", elliptic_dataset.val_idx.shape[0])\n",
    "print(\"Test dataset size:\", elliptic_dataset.test_idx.shape[0])"
   ]
  },
  {
   "cell_type": "code",
   "execution_count": null,
   "id": "032c4306",
   "metadata": {},
   "outputs": [],
   "source": []
  },
  {
   "cell_type": "markdown",
   "id": "ea51b088",
   "metadata": {},
   "source": [
    "# Part2.以下为监督学习部分"
   ]
  },
  {
   "cell_type": "markdown",
   "id": "cfc470bb",
   "metadata": {},
   "source": [
    "## 结合图注意力机制的自编码器——定义"
   ]
  },
  {
   "cell_type": "code",
   "execution_count": 9,
   "id": "20cf6a4a",
   "metadata": {},
   "outputs": [],
   "source": [
    "def accuracy(y_pred, y_test, prediction_threshold=0.5):\n",
    "    device = y_pred.device  # 获取预测的设备\n",
    "    y_pred_label = (torch.sigmoid(y_pred) > prediction_threshold).float()\n",
    "    y_test = y_test.to(device)  # 将目标移动到同一设备\n",
    "    correct_results_sum = (y_pred_label == y_test).sum().float()\n",
    "    acc = correct_results_sum/y_test.shape[0]\n",
    "\n",
    "    return acc\n",
    "\n",
    "# 包含两个注意力层（gat1 和 gat2），用于处理图数据。\n",
    "# gat1 用于输入层，gat2_class 和 gat2_feature 用于输出层，分别用于分类和特征表示。\n",
    "class GAT(torch.nn.Module):\n",
    "    \"\"\"Graph Attention Network with dual output for classification and feature representation.\"\"\"\n",
    "    def __init__(self, dim_in, dim_h, dim_out, dim_feature, heads=8):\n",
    "        super(GAT, self).__init__()\n",
    "        self.norm1 = BatchNorm1d(dim_in)\n",
    "        self.gat1 = GATv2Conv(dim_in, dim_h, heads=heads, dropout=0.3)\n",
    "        self.norm2 = BatchNorm1d(dim_h*heads)\n",
    "        # 分类头\n",
    "        self.gat2_class = GATv2Conv(dim_h*heads, dim_out, heads=heads, concat=False, dropout=0.6)\n",
    "        # 特征头\n",
    "        self.gat2_feature = GATv2Conv(dim_h*heads, dim_feature, heads=heads, concat=False, dropout=0.6)\n",
    "\n",
    "    def forward(self, x, edge_index):\n",
    "        h = self.norm1(x)\n",
    "        h = self.gat1(h, edge_index)\n",
    "        h = self.norm2(h)\n",
    "        h = F.leaky_relu(h)\n",
    "        # 分类输出\n",
    "        out_class = self.gat2_class(h, edge_index)\n",
    "        # 特征输出\n",
    "        out_feature = self.gat2_feature(h, edge_index)\n",
    "        return out_class, out_feature\n",
    "    \n",
    "# 定义一个完全连接的解码器类。\n",
    "# 包含一个线性层，用于解码特征表示。\n",
    "class FullyConnectedDecoder(torch.nn.Module):\n",
    "    def __init__(self, dim_feature, dim_out=165):\n",
    "        super(FullyConnectedDecoder, self).__init__()\n",
    "        # 可以增加更多的层或使用不同的层结构来调整解码器的复杂性\n",
    "        self.fc1 = torch.nn.Linear(dim_feature, dim_out)\n",
    "\n",
    "    def forward(self, x):\n",
    "        x = self.fc1(x)\n",
    "        return x\n",
    "    \n",
    "# 定义一个GAT自编码器类。\n",
    "# 结合了前面定义的GAT和完全连接的解码器，用于同时进行分类和特征重构。 \n",
    "# 定义GAT自编码器类\n",
    "# 该类结合了前面定义的GAT和完全连接的解码器，用于同时进行分类和特征重构\n",
    "class GATAutoencoder(torch.nn.Module):\n",
    "    def __init__(self, dim_in, dim_h, dim_out, dim_feature, heads=8):\n",
    "        super(GATAutoencoder, self).__init__()\n",
    "        self.encoder = GAT(dim_in, dim_h, dim_out, dim_feature, heads)\n",
    "        self.decoder = FullyConnectedDecoder(dim_feature, 165)  # 确保解码器的输出维度是原始数据的维度\n",
    "\n",
    "    def forward(self, x, edge_index):\n",
    "        out_class, out_feature = self.encoder(x, edge_index)  # 编码器输出分类和特征表示\n",
    "        reconstructed = self.decoder(out_feature)  # 解码器重构特征\n",
    "        return out_class, reconstructed, out_feature  # 返回分类结果，重构结果，和特征表示\n"
   ]
  },
  {
   "cell_type": "markdown",
   "id": "24b49ce4",
   "metadata": {},
   "source": [
    "## 训练和评估函数的定义"
   ]
  },
  {
   "cell_type": "code",
   "execution_count": 37,
   "id": "36132a53",
   "metadata": {},
   "outputs": [],
   "source": [
    "def train_evaluate(model, data, criterion_class, criterion_recon, optimizer, config):\n",
    "    best_model_wts = copy.deepcopy(model.state_dict())  # 复制模型的初始状态\n",
    "    best_loss = float('inf')  # 初始化最佳损失为无限大\n",
    "\n",
    "    if not os.path.exists(config.checkpoints_dir):  # 检查是否存在检查点目录\n",
    "        os.makedirs(config.checkpoints_dir)  # 如果不存在，创建目录\n",
    "\n",
    "    for epoch in range(config.num_epochs + 1):  # 对每个训练周期进行迭代\n",
    "        model.train()  # 设置模型为训练模式\n",
    "        optimizer.zero_grad()  # 清零梯度\n",
    "        # 前向传播：计算类别输出、重建输出和特征表示\n",
    "        out_class, reconstructed, out_feature = model(data.x.to(config.device), data.edge_index.to(config.device))\n",
    "        # 计算类别损失\n",
    "        loss_class = criterion_class(out_class[data.train_idx], data.y[data.train_idx].to(config.device).unsqueeze(1))\n",
    "        # 计算重建损失\n",
    "        loss_recon = criterion_recon(reconstructed[data.train_idx], data.x[data.train_idx].to(config.device))\n",
    "        loss = loss_class + loss_recon  # 组合损失\n",
    "        loss.backward()  # 反向传播，计算梯度\n",
    "        optimizer.step()  # 更新模型参数\n",
    "\n",
    "        # 验证\n",
    "        model.eval()  # 设置模型为评估模式\n",
    "        with torch.no_grad():  # 不计算梯度，减少计算和内存使用\n",
    "            out_class, _, _ = model(data.x.to(config.device), data.edge_index.to(config.device))\n",
    "            # 计算验证损失\n",
    "            val_loss = criterion_class(out_class[data.val_idx], data.y[data.val_idx].to(config.device).unsqueeze(1))\n",
    "\n",
    "        if epoch % 10 == 0:  # 每10个周期打印一次进度\n",
    "            print(f'Epoch {epoch:>3} | Train Loss: {loss:.3f} | Val Loss: {val_loss:.4f}')\n",
    "\n",
    "            if val_loss < best_loss:  # 如果当前验证损失小于之前的最佳损失\n",
    "                best_loss = val_loss  # 更新最佳损失\n",
    "                print(\"Saving model with best loss\")  # 打印保存模型信息\n",
    "                checkpoint = {'state_dict': model.state_dict()}  # 保存模型状态\n",
    "                # 在每个epoch后保存模型，文件名包含epoch信息\n",
    "                torch.save(model.state_dict(), os.path.join(config.checkpoints_dir, f'gat1_autoencoder_epoch_{epoch}.pth'))\n",
    "\n",
    "\n",
    "    return model  # 返回训练好的模型\n",
    "\n",
    "\n",
    "# 定义一个在测试数据上运行模型的函数\n",
    "# 这个函数加载之前保存的最佳模型，并在测试数据上进行预测\n",
    "def test(model, data, config):\n",
    "    model.load_state_dict(torch.load(os.path.join(config.checkpoints_dir, f'gat1_autoencoder_epoch_{config.num_epochs}.pth')))\n",
    "\n",
    "    model.eval()  # 设置模型为评估模式\n",
    "    with torch.no_grad():  # 不计算梯度\n",
    "        out_class, _, _ = model(data.x.to(config.device), data.edge_index.to(config.device))  # 接收所有返回值\n",
    "        preds = ((torch.sigmoid(out_class) > 0.5).float()).squeeze(1)  # 计算预测值\n",
    "    return preds  # 返回预测值"
   ]
  },
  {
   "cell_type": "code",
   "execution_count": null,
   "id": "069aa77a",
   "metadata": {},
   "outputs": [],
   "source": []
  },
  {
   "cell_type": "markdown",
   "id": "90c593d7",
   "metadata": {},
   "source": [
    "## 自编码器预训练"
   ]
  },
  {
   "cell_type": "code",
   "execution_count": 44,
   "id": "caeb5221",
   "metadata": {},
   "outputs": [],
   "source": [
    "torch.manual_seed(config.seed)\n",
    "config.hidden_size = 64  # 减小隐藏层大小\n",
    "config.dim_feature = 64  # 减小特征头输出维度\n",
    "config.heads = 8        # 减少注意力头的数量\n",
    "config.num_epochs = 320\n",
    "# 创建模型实例\n",
    "autoencoder_model = GATAutoencoder(config.input_dim, config.hidden_size, config.output_dim, config.hidden_size, config.heads).to(config.device)"
   ]
  },
  {
   "cell_type": "code",
   "execution_count": 12,
   "id": "25d5d2ae",
   "metadata": {},
   "outputs": [
    {
     "name": "stdout",
     "output_type": "stream",
     "text": [
      "Epoch   0 | Train Loss: 3.120 | Val Loss: 0.5768\n",
      "Saving model with best loss\n",
      "Epoch  10 | Train Loss: 2.231 | Val Loss: 0.2658\n",
      "Saving model with best loss\n",
      "Epoch  20 | Train Loss: 1.945 | Val Loss: 0.2234\n",
      "Saving model with best loss\n",
      "Epoch  30 | Train Loss: 1.701 | Val Loss: 0.2091\n",
      "Saving model with best loss\n",
      "Epoch  40 | Train Loss: 1.562 | Val Loss: 0.1981\n",
      "Saving model with best loss\n",
      "Epoch  50 | Train Loss: 1.409 | Val Loss: 0.1898\n",
      "Saving model with best loss\n",
      "Epoch  60 | Train Loss: 1.316 | Val Loss: 0.1833\n",
      "Saving model with best loss\n",
      "Epoch  70 | Train Loss: 1.228 | Val Loss: 0.1771\n",
      "Saving model with best loss\n",
      "Epoch  80 | Train Loss: 1.144 | Val Loss: 0.1704\n",
      "Saving model with best loss\n",
      "Epoch  90 | Train Loss: 1.070 | Val Loss: 0.1633\n",
      "Saving model with best loss\n",
      "Epoch 100 | Train Loss: 1.033 | Val Loss: 0.1569\n",
      "Saving model with best loss\n"
     ]
    }
   ],
   "source": [
    "\n",
    "# 创建优化器和损失函数\n",
    "optimizer = torch.optim.Adam(autoencoder_model.parameters(), lr=config.learning_rate, weight_decay=config.weight_decay)\n",
    "criterion_class = torch.nn.BCEWithLogitsLoss()\n",
    "# 创建二元交叉熵损失函数，用于分类任务。\n",
    "criterion_recon = torch.nn.MSELoss()\n",
    "# 创建均方误差损失函数，用于重构任务。\n",
    "\n",
    "# 训练和评估模型\n",
    "trained_model = train_evaluate(autoencoder_model, elliptic_dataset, criterion_class, criterion_recon, optimizer, config)\n"
   ]
  },
  {
   "cell_type": "markdown",
   "id": "dfb45add",
   "metadata": {},
   "source": [
    "## 结果可视化"
   ]
  },
  {
   "cell_type": "code",
   "execution_count": 45,
   "id": "5bf01733",
   "metadata": {
    "scrolled": true
   },
   "outputs": [
    {
     "data": {
      "image/png": "[encoded data removed]",
      "text/plain": [
       "<Figure size 600x600 with 1 Axes>"
      ]
     },
     "metadata": {},
     "output_type": "display_data"
    },
    {
     "name": "stdout",
     "output_type": "stream",
     "text": [
      "              precision    recall  f1-score   support\n",
      "\n",
      "       licit     0.9813    0.9908    0.9860      6303\n",
      "     illicit     0.9066    0.8255    0.8642       682\n",
      "\n",
      "    accuracy                         0.9747      6985\n",
      "   macro avg     0.9440    0.9082    0.9251      6985\n",
      "weighted avg     0.9740    0.9747    0.9741      6985\n",
      "\n"
     ]
    }
   ],
   "source": [
    "trained_model=GATAutoencoder(config.input_dim, config.hidden_size, config.output_dim, config.hidden_size, config.heads).to(config.device)\n",
    "y_test_preds = test(trained_model, elliptic_dataset, config)\n",
    "\n",
    "# 混淆矩阵\n",
    "conf_mat = confusion_matrix(elliptic_dataset.y[elliptic_dataset.val_idx].detach().cpu().numpy(), y_test_preds[elliptic_dataset.val_idx].cpu())\n",
    "# 生成混淆矩阵。这个矩阵展示了模型在验证集上的预测结果与实际标签之间的关系。\n",
    "\n",
    "plt.subplots(figsize=(6,6))\n",
    "sns.heatmap(conf_mat, annot=True, fmt=\"d\", annot_kws={\"size\": 16}, cbar=False)\n",
    "plt.xlabel('Target (true) Class')\n",
    "plt.ylabel('Output (predicted) class')\n",
    "plt.title('Confusion Matrix')\n",
    "plt.show()\n",
    "# 混淆矩阵的每个单元格显示实际类别与预测类别的匹配程度。\n",
    "\n",
    "# 分类报告\n",
    "print(classification_report(elliptic_dataset.y[elliptic_dataset.val_idx].detach().cpu().numpy(), y_test_preds[elliptic_dataset.val_idx].cpu(), target_names=['licit', 'illicit'],digits=4))\n",
    "# 这个报告提供了模型在各个类别上的精确度、召回率、F1分数等指标。"
   ]
  },
  {
   "cell_type": "markdown",
   "id": "3269c0a5",
   "metadata": {},
   "source": [
    "# Part3.以下是半监督学习部分（充分利用无标签数据,引入生成对抗网络，进一步增强编码器的能力）"
   ]
  },
  {
   "cell_type": "markdown",
   "id": "d3fc98a3",
   "metadata": {},
   "source": [
    "## 以下是模型的定义"
   ]
  },
  {
   "cell_type": "code",
   "execution_count": 21,
   "id": "637d21fe",
   "metadata": {},
   "outputs": [],
   "source": [
    "## 定义特征判别器\n",
    "class Discriminator(torch.nn.Module):\n",
    "    def __init__(self):\n",
    "        super(Discriminator, self).__init__()\n",
    "        self.model = nn.Sequential(\n",
    "            nn.Linear(1, 64),  # 假设输入是一个概率值\n",
    "            nn.LeakyReLU(0.2),\n",
    "            nn.Linear(64, 32),\n",
    "            nn.LeakyReLU(0.2),\n",
    "            nn.Dropout(0.5),  # 加入Dropout防止过拟合\n",
    "            nn.Linear(32, 1),\n",
    "            nn.Sigmoid()  # 输出一个概率，表示输入为真实标签的概率\n",
    "        )\n",
    "\n",
    "    def forward(self, x):\n",
    "        x = x.view(x.size(0), -1)  # 确保输入是正确的形状\n",
    "        return self.model(x)"
   ]
  },
  {
   "cell_type": "code",
   "execution_count": 22,
   "id": "7042da0b",
   "metadata": {},
   "outputs": [],
   "source": [
    "class FeatureDiscriminator(torch.nn.Module):\n",
    "    def __init__(self, feature_dim):\n",
    "        super(FeatureDiscriminator, self).__init__()\n",
    "        self.model = nn.Sequential(\n",
    "            nn.Linear(feature_dim, 128),  # feature_dim是特征表示的维度\n",
    "            nn.LeakyReLU(0.2),\n",
    "            nn.Linear(128, 64),\n",
    "            nn.LeakyReLU(0.2),\n",
    "            nn.Dropout(0.5),  # 加入Dropout防止过拟合\n",
    "            nn.Linear(64, 1),\n",
    "            nn.Sigmoid()  # 输出一个概率，表示输入为真实特征表示的概率\n",
    "        )\n",
    "\n",
    "    def forward(self, features):\n",
    "        return self.model(features)\n"
   ]
  },
  {
   "cell_type": "markdown",
   "id": "a0c8ae88",
   "metadata": {},
   "source": [
    "## 定义新的训练评估函数"
   ]
  },
  {
   "cell_type": "code",
   "execution_count": 23,
   "id": "bfc7b279",
   "metadata": {},
   "outputs": [],
   "source": [
    "import torch\n",
    "import torch.nn as nn\n",
    "import torch.nn.functional as F\n",
    "from torch.optim import Adam\n",
    "from sklearn.decomposition import PCA\n",
    "from torch.utils.data import DataLoader\n",
    "\n",
    "def train_evaluate(model, discriminator, feature_discriminator, data, criterion_class, criterion_recon, optimizer, optimizer_D, optimizer_FD, config):\n",
    "    best_model_wts = copy.deepcopy(model.state_dict())\n",
    "    best_loss = float('inf')\n",
    "\n",
    "    pca = PCA(n_components=64)\n",
    "    real_feature_data = pca.fit_transform(data.x.detach().cpu().numpy())\n",
    "    real_feature_data = torch.tensor(real_feature_data, device=config.device, dtype=torch.float32)\n",
    "\n",
    "    criterion_D = torch.nn.BCELoss()\n",
    "    criterion_FD = torch.nn.BCELoss()\n",
    "\n",
    "    for epoch in range(config.num_epochs + 1):\n",
    "        model.train()\n",
    "        discriminator.train()\n",
    "        feature_discriminator.train()\n",
    "\n",
    "        optimizer.zero_grad()\n",
    "\n",
    "        out_class, reconstructed, out_feature = model(data.x.to(config.device), data.edge_index.to(config.device))\n",
    "\n",
    "        loss_class = criterion_class(out_class[data.train_idx], data.y[data.train_idx].to(config.device).unsqueeze(1))\n",
    "        fake_data = out_class.detach()\n",
    "        fake_labels = torch.ones(fake_data.size(0), 1, device=config.device)\n",
    "\n",
    "        optimizer_D.zero_grad()\n",
    "        real_data = data.y[data.train_idx].to(config.device).unsqueeze(1)\n",
    "        real_loss = criterion_D(discriminator(real_data), torch.ones(real_data.size(0), 1, device=config.device))\n",
    "        fake_loss = criterion_D(discriminator(fake_data), torch.zeros(fake_data.size(0), 1, device=config.device))\n",
    "        d_loss = (real_loss + fake_loss) / 2\n",
    "        d_loss.backward(retain_graph=True)\n",
    "        optimizer_D.step()\n",
    "\n",
    "        optimizer_FD.zero_grad()\n",
    "        real_feature_loss = criterion_FD(feature_discriminator(real_feature_data), torch.ones(real_feature_data.size(0), 1, device=config.device))\n",
    "        fake_feature_loss = criterion_FD(feature_discriminator(out_feature.detach()), torch.zeros(out_feature.size(0), 1, device=config.device))\n",
    "        fd_loss = (real_feature_loss + fake_feature_loss) / 2\n",
    "        fd_loss.backward()\n",
    "        optimizer_FD.step()\n",
    "\n",
    "        fake_labels = torch.ones(fake_data.size(0), 1, device=config.device)\n",
    "        # 设置权重\n",
    "        weight_class = 0.3   # 你可以调整这些权重以找到最优的训练平衡\n",
    "        weight_discriminator = 0.4\n",
    "        weight_feature_discriminator = 0.3\n",
    "\n",
    "        # 计算加权损失\n",
    "        g_loss = (weight_class * loss_class +\n",
    "          weight_discriminator * criterion_D(discriminator(fake_data), fake_labels) +\n",
    "          weight_feature_discriminator * criterion_FD(feature_discriminator(out_feature.detach()), torch.ones(out_feature.size(0), 1, device=config.device)))\n",
    "    \n",
    "        g_loss.backward(retain_graph=True)\n",
    "        optimizer.step()\n",
    "        \n",
    "        \n",
    "        if epoch % 10 == 0 or epoch == config.num_epochs:\n",
    "            val_loss = evaluate(model, discriminator, feature_discriminator, data, criterion_class, criterion_D, criterion_FD, config)\n",
    "            print(f'Epoch {epoch:>3} | Train Loss: {g_loss.item():.3f}| Train Loss: {loss_class.item():.3f} | D Loss: {d_loss.item():.3f} | FD Loss: {fd_loss.item():.3f} | Val Loss: {val_loss:.3f}')\n",
    "            if val_loss < best_loss:\n",
    "                print(\"Saving model with best validation loss\")\n",
    "                best_loss = val_loss\n",
    "                best_model_wts = copy.deepcopy(model.state_dict())\n",
    "                torch.save(best_model_wts, f'{config.checkpoints_dir}/best2_model_epoch_{epoch}.pth')\n",
    "\n",
    "    model.load_state_dict(best_model_wts)\n",
    "    return model\n",
    "\n",
    "def evaluate(model, discriminator, feature_discriminator, data, criterion_class, criterion_D, criterion_FD, config):\n",
    "    model.eval()\n",
    "    discriminator.eval()\n",
    "    feature_discriminator.eval()\n",
    "    with torch.no_grad():\n",
    "        out_class, _, out_feature = model(data.x.to(config.device), data.edge_index.to(config.device))\n",
    "        val_loss = criterion_class(out_class[data.val_idx], data.y[data.val_idx].to(config.device).unsqueeze(1)).item()\n",
    "    return val_loss\n",
    "\n",
    "def test(model, data, config):\n",
    "\n",
    "    model_path = os.path.join(config.checkpoints_dir, f'best2_model_epoch_{config.num_epochs}.pth')\n",
    "    model.load_state_dict(torch.load(model_path))\n",
    "    with torch.no_grad():\n",
    "        out_class, _, _ = model(data.x.to(config.device), data.edge_index.to(config.device))\n",
    "        preds = ((torch.sigmoid(out_class) > 0.5).float()).squeeze(1)\n",
    "    return preds\n"
   ]
  },
  {
   "cell_type": "code",
   "execution_count": 24,
   "id": "325a8594",
   "metadata": {},
   "outputs": [
    {
     "data": {
      "text/plain": [
       "<All keys matched successfully>"
      ]
     },
     "execution_count": 24,
     "metadata": {},
     "output_type": "execute_result"
    }
   ],
   "source": [
    "\n",
    "# 加载预训练的自编码器模型\n",
    "best_epoch = config.num_epochs  # 或其他特定的epoch值\n",
    "autoencoder_model.load_state_dict(torch.load(os.path.join(config.checkpoints_dir, f'gat1_autoencoder_epoch_{best_epoch}.pth')))"
   ]
  },
  {
   "cell_type": "markdown",
   "id": "a2db1580",
   "metadata": {},
   "source": [
    "## 训练"
   ]
  },
  {
   "cell_type": "code",
   "execution_count": 19,
   "id": "ef27fa45",
   "metadata": {
    "scrolled": true
   },
   "outputs": [
    {
     "name": "stdout",
     "output_type": "stream",
     "text": [
      "Epoch   0 | Train Loss: 0.549| Train Loss: 0.179 | D Loss: 0.750 | FD Loss: 0.705 | Val Loss: 0.154\n",
      "Saving model with best validation loss\n",
      "Epoch  10 | Train Loss: 0.895| Train Loss: 0.152 | D Loss: 0.528 | FD Loss: 0.597 | Val Loss: 0.130\n",
      "Saving model with best validation loss\n",
      "Epoch  20 | Train Loss: 1.490| Train Loss: 0.134 | D Loss: 0.435 | FD Loss: 0.474 | Val Loss: 0.114\n",
      "Saving model with best validation loss\n",
      "Epoch  30 | Train Loss: 2.234| Train Loss: 0.123 | D Loss: 0.379 | FD Loss: 0.328 | Val Loss: 0.104\n",
      "Saving model with best validation loss\n",
      "Epoch  40 | Train Loss: 2.988| Train Loss: 0.114 | D Loss: 0.338 | FD Loss: 0.198 | Val Loss: 0.096\n",
      "Saving model with best validation loss\n",
      "Epoch  50 | Train Loss: 3.811| Train Loss: 0.105 | D Loss: 0.306 | FD Loss: 0.106 | Val Loss: 0.091\n",
      "Saving model with best validation loss\n",
      "Epoch  60 | Train Loss: 4.722| Train Loss: 0.098 | D Loss: 0.279 | FD Loss: 0.058 | Val Loss: 0.086\n",
      "Saving model with best validation loss\n",
      "Epoch  70 | Train Loss: 5.578| Train Loss: 0.092 | D Loss: 0.252 | FD Loss: 0.035 | Val Loss: 0.082\n",
      "Saving model with best validation loss\n",
      "Epoch  80 | Train Loss: 6.305| Train Loss: 0.086 | D Loss: 0.230 | FD Loss: 0.024 | Val Loss: 0.079\n",
      "Saving model with best validation loss\n",
      "Epoch  90 | Train Loss: 6.964| Train Loss: 0.081 | D Loss: 0.217 | FD Loss: 0.017 | Val Loss: 0.077\n",
      "Saving model with best validation loss\n",
      "Epoch 100 | Train Loss: 7.624| Train Loss: 0.079 | D Loss: 0.197 | FD Loss: 0.013 | Val Loss: 0.075\n",
      "Saving model with best validation loss\n",
      "Epoch 110 | Train Loss: 8.252| Train Loss: 0.075 | D Loss: 0.185 | FD Loss: 0.011 | Val Loss: 0.073\n",
      "Saving model with best validation loss\n",
      "Epoch 120 | Train Loss: 8.786| Train Loss: 0.070 | D Loss: 0.172 | FD Loss: 0.008 | Val Loss: 0.071\n",
      "Saving model with best validation loss\n",
      "Epoch 130 | Train Loss: 9.382| Train Loss: 0.068 | D Loss: 0.160 | FD Loss: 0.008 | Val Loss: 0.070\n",
      "Saving model with best validation loss\n",
      "Epoch 140 | Train Loss: 10.013| Train Loss: 0.066 | D Loss: 0.150 | FD Loss: 0.007 | Val Loss: 0.069\n",
      "Saving model with best validation loss\n",
      "Epoch 150 | Train Loss: 10.712| Train Loss: 0.063 | D Loss: 0.140 | FD Loss: 0.006 | Val Loss: 0.067\n",
      "Saving model with best validation loss\n",
      "Epoch 160 | Train Loss: 11.348| Train Loss: 0.060 | D Loss: 0.133 | FD Loss: 0.005 | Val Loss: 0.068\n",
      "Epoch 170 | Train Loss: 11.955| Train Loss: 0.059 | D Loss: 0.129 | FD Loss: 0.005 | Val Loss: 0.066\n",
      "Saving model with best validation loss\n",
      "Epoch 180 | Train Loss: 12.719| Train Loss: 0.056 | D Loss: 0.122 | FD Loss: 0.004 | Val Loss: 0.066\n",
      "Saving model with best validation loss\n",
      "Epoch 190 | Train Loss: 13.365| Train Loss: 0.053 | D Loss: 0.117 | FD Loss: 0.004 | Val Loss: 0.064\n",
      "Saving model with best validation loss\n",
      "Epoch 200 | Train Loss: 14.105| Train Loss: 0.052 | D Loss: 0.112 | FD Loss: 0.003 | Val Loss: 0.064\n",
      "Saving model with best validation loss\n"
     ]
    }
   ],
   "source": [
    "config.num_epochs = 200\n",
    "\n",
    "# 定义标签和特征判别器及其优化器\n",
    "label_discriminator = Discriminator().to(config.device)\n",
    "feature_discriminator = FeatureDiscriminator(feature_dim=config.dim_feature).to(config.device)\n",
    "\n",
    "optimizer_label_D = Adam(label_discriminator.parameters(), lr=0.001)\n",
    "optimizer_feature_D = Adam(feature_discriminator.parameters(), lr=0.001)\n",
    "\n",
    "# 自编码器的优化器和损失函数\n",
    "optimizer = Adam(autoencoder_model.parameters(), lr=config.learning_rate, weight_decay=config.weight_decay)\n",
    "criterion_class = nn.BCEWithLogitsLoss()\n",
    "criterion_recon = nn.MSELoss()\n",
    "\n",
    "# 开始训练\n",
    "trained_model = train_evaluate(autoencoder_model, label_discriminator, feature_discriminator, elliptic_dataset, criterion_class, criterion_recon, optimizer, optimizer_label_D, optimizer_feature_D, config)"
   ]
  },
  {
   "cell_type": "markdown",
   "id": "631a1c20",
   "metadata": {},
   "source": [
    "## 可视化"
   ]
  },
  {
   "cell_type": "code",
   "execution_count": 31,
   "id": "8aa7e2da",
   "metadata": {},
   "outputs": [],
   "source": [
    "def test(model, data, config):\n",
    "\n",
    "    model_path = os.path.join(config.checkpoints_dir, f'best2_model_epoch_200.pth')\n",
    "    model.load_state_dict(torch.load(model_path))\n",
    "    with torch.no_grad():\n",
    "        out_class, _, _ = model(data.x.to(config.device), data.edge_index.to(config.device))\n",
    "        preds = ((torch.sigmoid(out_class) > 0.5).float()).squeeze(1)\n",
    "    return preds"
   ]
  },
  {
   "cell_type": "code",
   "execution_count": 33,
   "id": "78f8332f",
   "metadata": {},
   "outputs": [
    {
     "data": {
      "image/png": "[encoded data removed]",
      "text/plain": [
       "<Figure size 600x600 with 1 Axes>"
      ]
     },
     "metadata": {},
     "output_type": "display_data"
    },
    {
     "name": "stdout",
     "output_type": "stream",
     "text": [
      "              precision    recall  f1-score   support\n",
      "\n",
      "       licit     0.9838    0.9921    0.9879      6303\n",
      "     illicit     0.9205    0.8490    0.8833       682\n",
      "\n",
      "    accuracy                         0.9781      6985\n",
      "   macro avg     0.9522    0.9205    0.9356      6985\n",
      "weighted avg     0.9776    0.9781    0.9777      6985\n",
      "\n"
     ]
    }
   ],
   "source": [
    "trained_model=GATAutoencoder(config.input_dim, config.hidden_size, config.output_dim, config.hidden_size, config.heads).to(config.device)\n",
    "y_test_preds = test(trained_model, elliptic_dataset, config)\n",
    "\n",
    "# 混淆矩阵\n",
    "conf_mat = confusion_matrix(elliptic_dataset.y[elliptic_dataset.val_idx].detach().cpu().numpy(), y_test_preds[elliptic_dataset.val_idx].cpu())\n",
    "# 生成混淆矩阵。这个矩阵展示了模型在验证集上的预测结果与实际标签之间的关系。\n",
    "\n",
    "plt.subplots(figsize=(6,6))\n",
    "sns.heatmap(conf_mat, annot=True, fmt=\"d\", annot_kws={\"size\": 16}, cbar=False)\n",
    "plt.xlabel('Target (true) Class')\n",
    "plt.ylabel('Output (predicted) class')\n",
    "plt.title('Confusion Matrix')\n",
    "plt.show()\n",
    "# 混淆矩阵的每个单元格显示实际类别与预测类别的匹配程度。\n",
    "\n",
    "# 分类报告\n",
    "print(classification_report(elliptic_dataset.y[elliptic_dataset.val_idx].detach().cpu().numpy(), y_test_preds[elliptic_dataset.val_idx].cpu(), target_names=['licit', 'illicit'],digits=4))\n",
    "# 这个报告提供了模型在各个类别上的精确度、召回率、F1分数等指标。"
   ]
  },
  {
   "cell_type": "code",
   "execution_count": null,
   "id": "250e6c4c",
   "metadata": {},
   "outputs": [],
   "source": []
  }
 ],
 "metadata": {
  "kernelspec": {
   "display_name": "“shimeipytorch”",
   "language": "python",
   "name": "shimeipytorch"
  },
  "language_info": {
   "codemirror_mode": {
    "name": "ipython",
    "version": 3
   },
   "file_extension": ".py",
   "mimetype": "text/x-python",
   "name": "python",
   "nbconvert_exporter": "python",
   "pygments_lexer": "ipython3",
   "version": "3.8.18"
  }
 },
 "nbformat": 4,
 "nbformat_minor": 5
}
